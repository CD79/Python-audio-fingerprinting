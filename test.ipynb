{
 "cells": [
  {
   "cell_type": "code",
   "execution_count": 85,
   "metadata": {},
   "outputs": [],
   "source": [
    "import array\n",
    "import contextlib\n",
    "import matplotlib\n",
    "import numpy\n",
    "import wave\n",
    "\n",
    "from matplotlib import pyplot, mlab\n",
    "\n",
    "from scipy.ndimage.filters import maximum_filter\n",
    "from scipy.ndimage.morphology import generate_binary_structure, binary_erosion, iterate_structure"
   ]
  },
  {
   "cell_type": "code",
   "execution_count": 86,
   "metadata": {
    "collapsed": true
   },
   "outputs": [],
   "source": [
    "WINDOW_SIZE = 4096\n",
    "WINDOW_OVERLAP = 2048"
   ]
  },
  {
   "cell_type": "code",
   "execution_count": 87,
   "metadata": {
    "collapsed": true
   },
   "outputs": [],
   "source": [
    "def read_wav(file):\n",
    "    \"\"\"Read a Wave file into an array\n",
    "    :param file: location of the Wave file\n",
    "    :return: array containing the amplitude at each sample\n",
    "    \"\"\"\n",
    "    with contextlib.closing(wave.open(file)) as f:\n",
    "        params = f.getparams()\n",
    "        frames = f.readframes(params[3])\n",
    "    return array.array(\"h\", frames), params"
   ]
  },
  {
   "cell_type": "code",
   "execution_count": 88,
   "metadata": {
    "collapsed": true
   },
   "outputs": [],
   "source": [
    "def get_spectrogram(signal):\n",
    "    \"\"\"Run FFT to get the spectrogram of a signal.\n",
    "    :param signal: array of amplitudes\n",
    "    :param window_size:\n",
    "    :param window_overlap:\n",
    "    :return: numpy 2D array x: time, y: frequency\n",
    "    \"\"\"\n",
    "    result = matplotlib.mlab.specgram(\n",
    "        signal,\n",
    "        NFFT=WINDOW_SIZE,\n",
    "        Fs=44100,\n",
    "        window=matplotlib.mlab.window_hanning,\n",
    "        noverlap=WINDOW_OVERLAP\n",
    "    )[0]\n",
    "\n",
    "    result = 10 * numpy.log10(result)\n",
    "    result[result == -numpy.inf] = 0\n",
    "    return result"
   ]
  },
  {
   "cell_type": "code",
   "execution_count": 89,
   "metadata": {
    "collapsed": true
   },
   "outputs": [],
   "source": [
    "def get_peaks(image, plot=False):\n",
    "    \"\"\"Get the peaks from the 2D array, and do some filtering to reduce the number of peaks.\n",
    "    :param image: 2D array representing the image\n",
    "    :return: List of (x, y)\n",
    "    \"\"\"\n",
    "    # http://stackoverflow.com/questions/3684484/peak-detection-in-a-2d-array\n",
    "    structure = generate_binary_structure(2, 1)\n",
    "    neighborhood = iterate_structure(structure, 20)\n",
    "\n",
    "    local_max = maximum_filter(image, footprint=neighborhood)==image\n",
    "    background = (image == 0)\n",
    "    eroded_background = binary_erosion(background, structure=neighborhood, border_value=1)\n",
    "    detected_peaks = np.bitwise_xor(local_max,eroded_background)\n",
    "\n",
    "    # detected_peaks is a 2D mask\n",
    "    amplitudes = image[detected_peaks].flatten()\n",
    "    freq, t = numpy.where(detected_peaks)\n",
    "\n",
    "    # Filter all peaks with amplitude less then 10\n",
    "    unfiltered_peaks = zip(t, freq, amplitudes)\n",
    "    filtered_peaks = [x for x in unfiltered_peaks if x[2] > 10]\n",
    "\n",
    "    # get indices for frequency and time\n",
    "    time = [x[0] for x in filtered_peaks]\n",
    "    frequency = [x[1] for x in filtered_peaks]\n",
    "\n",
    "    # scatter of the peaks\n",
    "    if plot:\n",
    "        fig, ax = pyplot.subplots()\n",
    "        ax.imshow(image)\n",
    "        ax.scatter(time, frequency)\n",
    "        ax.set_xlabel('Time')\n",
    "        ax.set_ylabel('Frequency')\n",
    "        ax.set_title(\"Spectrogram\")\n",
    "        pyplot.gca().invert_yaxis()\n",
    "        pyplot.show()\n",
    "\n",
    "    return list(zip(time, frequency))"
   ]
  },
  {
   "cell_type": "code",
   "execution_count": 90,
   "metadata": {
    "collapsed": true
   },
   "outputs": [],
   "source": [
    "def create_fingerprints(peaks):\n",
    "    hashes = []\n",
    "    for i in range(len(peaks)):\n",
    "        for j in range(1, 15):\n",
    "            if (i + j) < len(peaks):\n",
    "                t1 = peaks[i][0]\n",
    "                t2 = peaks[i + j][0]\n",
    "                freq1 = peaks[i][1]\n",
    "                freq2 = peaks[i + j][1]\n",
    "                delta = t2 - t1\n",
    "\n",
    "                hash = hashlib.sha1(str(str(freq1) + str(freq2) + str(delta)).encode('utf-8'))\n",
    "\n",
    "                hashes.append((hash.hexdigest(), t1))\n",
    "\n",
    "    return hashes"
   ]
  },
  {
   "cell_type": "code",
   "execution_count": 91,
   "metadata": {},
   "outputs": [],
   "source": [
    "data, params = read_wav('Violin.wav')"
   ]
  },
  {
   "cell_type": "code",
   "execution_count": 92,
   "metadata": {
    "collapsed": true
   },
   "outputs": [],
   "source": [
    "metadata = {'title':'title', 'author':'author', 'album':'album'}"
   ]
  },
  {
   "cell_type": "code",
   "execution_count": 93,
   "metadata": {
    "collapsed": true
   },
   "outputs": [],
   "source": [
    "spec = get_spectrogram(data)"
   ]
  },
  {
   "cell_type": "code",
   "execution_count": 94,
   "metadata": {},
   "outputs": [],
   "source": [
    "peaks = get_peaks(spec)"
   ]
  },
  {
   "cell_type": "code",
   "execution_count": 95,
   "metadata": {},
   "outputs": [],
   "source": [
    "fp1 = create_fingerprints(peaks)"
   ]
  },
  {
   "cell_type": "code",
   "execution_count": 97,
   "metadata": {},
   "outputs": [
    {
     "ename": "AttributeError",
     "evalue": "'list' object has no attribute 'shape'",
     "output_type": "error",
     "traceback": [
      "\u001b[0;31m---------------------------------------------------------------------------\u001b[0m",
      "\u001b[0;31mAttributeError\u001b[0m                            Traceback (most recent call last)",
      "\u001b[0;32m<ipython-input-97-1a0597924dfc>\u001b[0m in \u001b[0;36m<module>\u001b[0;34m()\u001b[0m\n\u001b[0;32m----> 1\u001b[0;31m \u001b[0mfp1\u001b[0m\u001b[0;34m.\u001b[0m\u001b[0mshape\u001b[0m\u001b[0;34m\u001b[0m\u001b[0;34m\u001b[0m\u001b[0m\n\u001b[0m",
      "\u001b[0;31mAttributeError\u001b[0m: 'list' object has no attribute 'shape'"
     ]
    }
   ],
   "source": [
    "fp1"
   ]
  },
  {
   "cell_type": "code",
   "execution_count": 74,
   "metadata": {
    "collapsed": true
   },
   "outputs": [],
   "source": [
    "class Fingerprint(object):\n",
    "    def __init__(self, hashvalue, timeoffset):\n",
    "        self.hashvalue = hashvalue\n",
    "        self.timeoffset = timeoffset\n",
    "\n",
    "    def __eq__(self, other):\n",
    "        return self.hashvalue == other.hashvalue\n",
    "\n",
    "    def __str__(self):\n",
    "        return \"Fingerprint: {0} at offset {1}\".format(self.hashvalue, self.timeoffset)"
   ]
  },
  {
   "cell_type": "code",
   "execution_count": 75,
   "metadata": {
    "collapsed": true
   },
   "outputs": [],
   "source": [
    "def find_matches(fingerprints_1, fingerprints_2):\n",
    "    matches = {}\n",
    "\n",
    "    for fp_1 in fingerprints_1:\n",
    "        for fp_2 in fingerprints_2:\n",
    "            if fp_1 == fp_2:\n",
    "                matches[fp_1.timeoffset - fp_2.timeoffset] = fp_1.hashvalue\n",
    "\n",
    "    return matches"
   ]
  },
  {
   "cell_type": "code",
   "execution_count": 98,
   "metadata": {
    "collapsed": true
   },
   "outputs": [],
   "source": [
    "data2, params2 = read_wav('RECORDING2.wav')"
   ]
  },
  {
   "cell_type": "code",
   "execution_count": 99,
   "metadata": {
    "collapsed": true
   },
   "outputs": [],
   "source": [
    "spec2 = get_spectrogram(data2)"
   ]
  },
  {
   "cell_type": "code",
   "execution_count": 100,
   "metadata": {
    "collapsed": true
   },
   "outputs": [],
   "source": [
    "peaks2 = get_peaks(spec2)"
   ]
  },
  {
   "cell_type": "code",
   "execution_count": 101,
   "metadata": {
    "collapsed": true
   },
   "outputs": [],
   "source": [
    "fp2 = create_fingerprints(peaks2)"
   ]
  },
  {
   "cell_type": "code",
   "execution_count": null,
   "metadata": {
    "collapsed": true
   },
   "outputs": [],
   "source": []
  }
 ],
 "metadata": {
  "kernelspec": {
   "display_name": "Python 3",
   "language": "python",
   "name": "python3"
  },
  "language_info": {
   "codemirror_mode": {
    "name": "ipython",
    "version": 3
   },
   "file_extension": ".py",
   "mimetype": "text/x-python",
   "name": "python",
   "nbconvert_exporter": "python",
   "pygments_lexer": "ipython3",
   "version": "3.6.7"
  }
 },
 "nbformat": 4,
 "nbformat_minor": 2
}
