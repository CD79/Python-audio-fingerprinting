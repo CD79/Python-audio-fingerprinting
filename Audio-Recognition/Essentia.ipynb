{
 "cells": [
  {
   "cell_type": "markdown",
   "metadata": {},
   "source": [
    "Chromaprint is a fingerprinting algorithm based on chroma features. \n",
    "AcoustID is a web service that relies on chromaprints in order to identify tracks from the MusicBrainz database.\n",
    "\n",
    "Queries to AcousticID requires a client key, the song duration and the fingerprint. Additionally, a query can ask for extra metadata from the MusicBrainz database using the field meta (https://acoustid.org/webservice).\n",
    "\n",
    "Essentia provides a wrapper algorithm, Chromaprinter, for computing fingerprints with the Chromaprint library. In the standard mode, a fingerprint is computed for the whole audio duration."
   ]
  },
  {
   "cell_type": "code",
   "execution_count": null,
   "metadata": {},
   "outputs": [],
   "source": [
    "- https://acoustid.org/\n",
    "- https://essentia.upf.edu/documentation/essentia_python_examples.html\n",
    "- "
   ]
  },
  {
   "cell_type": "code",
   "execution_count": 1,
   "metadata": {},
   "outputs": [],
   "source": [
    "import essentia\n",
    "import essentia.standard as es"
   ]
  },
  {
   "cell_type": "code",
   "execution_count": 2,
   "metadata": {},
   "outputs": [],
   "source": [
    "audio = es.MonoLoader(filename='Bohemian_Rhapsody_by_Queen.mp3', sampleRate=44100)()"
   ]
  },
  {
   "cell_type": "code",
   "execution_count": 3,
   "metadata": {},
   "outputs": [],
   "source": [
    "fingerprint = es.Chromaprinter()(audio)"
   ]
  },
  {
   "cell_type": "code",
   "execution_count": 25,
   "metadata": {
    "scrolled": true
   },
   "outputs": [
    {
     "data": {
      "text/plain": [
       "'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'"
      ]
     },
     "execution_count": 25,
     "metadata": {},
     "output_type": "execute_result"
    }
   ],
   "source": [
    "fingerprint"
   ]
  },
  {
   "cell_type": "code",
   "execution_count": 10,
   "metadata": {},
   "outputs": [],
   "source": [
    "client = 'DYhlwZ2cAp'\n",
    "duration = len(audio)/44100"
   ]
  },
  {
   "cell_type": "code",
   "execution_count": 20,
   "metadata": {},
   "outputs": [],
   "source": [
    "query = 'http://api.acoustid.org/v2/lookup?client=%s&meta=recordings+releasegroups+compress&duration=%i&fingerprint=%s' \\\n",
    "%(client, duration, fingerprint)"
   ]
  },
  {
   "cell_type": "code",
   "execution_count": null,
   "metadata": {},
   "outputs": [],
   "source": [
    "from six.moves import urllib\n",
    "page = urllib.request.urlopen(query)\n",
    "print(page.read())"
   ]
  },
  {
   "cell_type": "code",
   "execution_count": null,
   "metadata": {},
   "outputs": [],
   "source": []
  }
 ],
 "metadata": {
  "kernelspec": {
   "display_name": "Python 3",
   "language": "python",
   "name": "python3"
  },
  "language_info": {
   "codemirror_mode": {
    "name": "ipython",
    "version": 3
   },
   "file_extension": ".py",
   "mimetype": "text/x-python",
   "name": "python",
   "nbconvert_exporter": "python",
   "pygments_lexer": "ipython3",
   "version": "3.6.4"
  }
 },
 "nbformat": 4,
 "nbformat_minor": 2
}
